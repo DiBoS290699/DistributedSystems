{
 "cells": [
  {
   "cell_type": "markdown",
   "metadata": {},
   "source": [
    "# Лабораторная №1: КЛИЕНТ-СЕРВЕРНАЯ АРХИТЕКТУРА"
   ]
  },
  {
   "cell_type": "markdown",
   "metadata": {},
   "source": [
    "## Применение клиент-серверной архитектуры для передачи изображения с импульсным шумом (salt and peper)"
   ]
  },
  {
   "cell_type": "markdown",
   "metadata": {},
   "source": [
    "Импорты"
   ]
  },
  {
   "cell_type": "code",
   "execution_count": 1,
   "metadata": {
    "pycharm": {
     "name": "#%%\n"
    }
   },
   "outputs": [],
   "source": [
    "import cv2\n",
    "\n",
    "from Server import Server\n",
    "from Noise import Noise\n",
    "from Client import Client"
   ]
  },
  {
   "cell_type": "markdown",
   "metadata": {},
   "source": [
    "Инициализация IP хоста и портов коммуникации:\n",
    "NOISE_PORT - коммуникация между Client и Noise;\n",
    "SERVER_PORT - коммуникаци между Noise и Server"
   ]
  },
  {
   "cell_type": "code",
   "execution_count": 2,
   "metadata": {
    "pycharm": {
     "name": "#%%\n"
    }
   },
   "outputs": [],
   "source": [
    "HOST = '127.0.0.1'\n",
    "NOISE_PORT = 55555\n",
    "SERVER_PORT = 55556"
   ]
  },
  {
   "cell_type": "markdown",
   "metadata": {},
   "source": [
    "Чтение оригинального изображения (представлен ниже)"
   ]
  },
  {
   "cell_type": "code",
   "execution_count": 3,
   "metadata": {
    "pycharm": {
     "name": "#%%\n"
    }
   },
   "outputs": [],
   "source": [
    "img = cv2.imread('original.jpg')"
   ]
  },
  {
   "cell_type": "markdown",
   "metadata": {},
   "source": [
    "Запуск потока Server"
   ]
  },
  {
   "cell_type": "code",
   "execution_count": 4,
   "metadata": {
    "pycharm": {
     "name": "#%%\n"
    }
   },
   "outputs": [
    {
     "name": "stdout",
     "output_type": "stream",
     "text": [
      "Server: Подключение к порту 55556\n"
     ]
    }
   ],
   "source": [
    "server = Server(HOST, SERVER_PORT)\n",
    "server.start()"
   ]
  },
  {
   "cell_type": "markdown",
   "metadata": {},
   "source": [
    "Запуск потока Noise"
   ]
  },
  {
   "cell_type": "code",
   "execution_count": 5,
   "metadata": {
    "pycharm": {
     "name": "#%%\n"
    }
   },
   "outputs": [
    {
     "name": "stdout",
     "output_type": "stream",
     "text": [
      "Noise: Подключение к порту 55555\n"
     ]
    }
   ],
   "source": [
    "noise = Noise(HOST, NOISE_PORT, SERVER_PORT)\n",
    "noise.start()"
   ]
  },
  {
   "cell_type": "markdown",
   "metadata": {},
   "source": [
    "Запуск потока Client"
   ]
  },
  {
   "cell_type": "code",
   "execution_count": 6,
   "metadata": {
    "pycharm": {
     "name": "#%%\n"
    }
   },
   "outputs": [
    {
     "name": "stdout",
     "output_type": "stream",
     "text": [
      "Client: Подключение к порту 55555\n",
      "Client: Подключено. Отправка изображения.\n",
      "Noise: Подключено. Получение изображения.\n",
      "Client: Изображение отправлено.\n",
      "Noise: Принято изображение размером 1280x720 и кол-вом байт 2764800\n",
      "Server: Подключено. Получение изображения.\n",
      "Noise: Изображение отправлено.\n",
      "Server: Принято изображение размером 1280x720 и кол-вом байт 2764800\n",
      "Noise: Изображение отправлено.\n",
      "Server: Принято изображение размером 1280x720 и кол-вом байт 2764800\n",
      "Server: Сравнение оригинала с зашумленным изображением\n",
      "Server: Среднее абсолютное отклонение: 15.390976905822754\n",
      "Server: Среднеквадратичное отклонение: 3218.035888671875\n",
      "Server: Сравнение оригинала с восстановленным изображением\n",
      "Server: Среднее абсолютное отклонение: 49.395843505859375\n",
      "Server: Среднеквадратичное отклонение: 11660.521484375\n"
     ]
    }
   ],
   "source": [
    "client = Client(HOST, NOISE_PORT, img)\n",
    "client.start()"
   ]
  },
  {
   "cell_type": "markdown",
   "metadata": {},
   "source": [
    "### Оригинальное изображение\n",
    "![Оригинальное изображение](./original.jpg)"
   ]
  },
  {
   "cell_type": "markdown",
   "metadata": {},
   "source": [
    "### Зашумлённое изображение\n",
    "![Зашумлённое изображение](./noise.jpg)"
   ]
  },
  {
   "cell_type": "markdown",
   "metadata": {},
   "source": [
    "### Восстановленное изображение\n",
    "![Восстановленное изображение](./result.jpg)"
   ]
  },
  {
   "cell_type": "code",
   "execution_count": null,
   "metadata": {},
   "outputs": [],
   "source": []
  }
 ],
 "metadata": {
  "kernelspec": {
   "display_name": "Python 3 (ipykernel)",
   "language": "python",
   "name": "python3"
  },
  "language_info": {
   "codemirror_mode": {
    "name": "ipython",
    "version": 3
   },
   "file_extension": ".py",
   "mimetype": "text/x-python",
   "name": "python",
   "nbconvert_exporter": "python",
   "pygments_lexer": "ipython3",
   "version": "3.9.7"
  }
 },
 "nbformat": 4,
 "nbformat_minor": 1
}